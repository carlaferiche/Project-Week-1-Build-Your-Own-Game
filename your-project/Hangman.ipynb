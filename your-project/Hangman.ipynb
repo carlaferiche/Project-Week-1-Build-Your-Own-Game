{
 "cells": [
  {
   "cell_type": "code",
   "execution_count": null,
   "metadata": {},
   "outputs": [
    {
     "name": "stdout",
     "output_type": "stream",
     "text": [
      "Let's try to solve the hangman game\n",
      "_ _ _ _ _ "
     ]
    }
   ],
   "source": [
    "print(\"Let's try to solve the hangman game\")\n",
    "hiddenword = \"house\"\n",
    "usuword = \"\"\n",
    "usuletter = \"\"\n",
    "lifes = 11\n",
    "while lives >0:\n",
    "    wrong = 0\n",
    "    for letter in hiddenword:\n",
    "        if letter in usuword:\n",
    "            print(letter, end = \"\")\n",
    "        else:\n",
    "            print(\"_ \", end = \"\")\n",
    "            wrong += 1\n",
    "    if wrong == 0:\n",
    "        print(\"Congratulations! You win! :)\")\n",
    "        break\n",
    "    usuletter = (input(\"\\nPlease, enter a letter: \"))\n",
    "    '''\n",
    "    while type(usuletter) != str:\n",
    "        try:\n",
    "            usuletter = str(input(\"\\nPlease, enter a letter: \"))\n",
    "        except: \n",
    "            print(\"That's not a valid letter. Please try again...\")  '''\n",
    "    if usuletter in usuword:\n",
    "        print(\"Ya has repetido la letra\")\n",
    "    elif usuletter in hiddenword:\n",
    "        print(\"Correct, the letter is included in the word\")\n",
    "        usuword += usuletter\n",
    "    elif usuletter not in hiddenword:\n",
    "        lifes = lives - 1\n",
    "        print(\"Oh no! The\", usuletter, \"is not included in the word\" )\n",
    "        print(\"You have \", lifes, \" lifes.\")\n",
    "        usuword += usuletter\n",
    "    if lifes == 0:\n",
    "        print(\"Game over\")\n",
    "        print(\"You lose!\")"
   ]
  },
  {
   "cell_type": "code",
   "execution_count": null,
   "metadata": {},
   "outputs": [],
   "source": []
  }
 ],
 "metadata": {
  "kernelspec": {
   "display_name": "Python 3",
   "language": "python",
   "name": "python3"
  }
 },
 "nbformat": 4,
 "nbformat_minor": 4
}
